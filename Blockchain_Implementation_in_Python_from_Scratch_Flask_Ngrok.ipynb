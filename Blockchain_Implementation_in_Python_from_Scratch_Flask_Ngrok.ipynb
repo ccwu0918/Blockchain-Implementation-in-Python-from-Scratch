{
  "nbformat": 4,
  "nbformat_minor": 0,
  "metadata": {
    "colab": {
      "provenance": [],
      "include_colab_link": true
    },
    "kernelspec": {
      "name": "python3",
      "display_name": "Python 3"
    }
  },
  "cells": [
    {
      "cell_type": "markdown",
      "metadata": {
        "id": "view-in-github",
        "colab_type": "text"
      },
      "source": [
        "<a href=\"https://colab.research.google.com/github/ccwu0918/Blockchain-Implementation-in-Python-from-Scratch/blob/main/Blockchain_Implementation_in_Python_from_Scratch_Flask_Ngrok.ipynb\" target=\"_parent\"><img src=\"https://colab.research.google.com/assets/colab-badge.svg\" alt=\"Open In Colab\"/></a>"
      ]
    },
    {
      "cell_type": "code",
      "source": [
        "!pip install flask-ngrok\n",
        "!pip install pyngrok"
      ],
      "metadata": {
        "id": "lBBLvpcBD0v5"
      },
      "execution_count": null,
      "outputs": []
    },
    {
      "cell_type": "code",
      "metadata": {
        "id": "d786ad0a"
      },
      "source": [
        "# !wget https://bin.equinox.io/c/4VmDzA7iaHb/ngrok-stable-linux-amd64.zip\n",
        "# !unzip ngrok-stable-linux-amd64.zip"
      ],
      "execution_count": 2,
      "outputs": []
    },
    {
      "cell_type": "code",
      "source": [
        "from google.colab import userdata\n",
        "Ngrok_Auth_Token = userdata.get('Ngrok_Auth_Token')"
      ],
      "metadata": {
        "id": "br_ndj45WiD8"
      },
      "execution_count": 3,
      "outputs": []
    },
    {
      "cell_type": "code",
      "source": [
        "!ngrok authtoken $Ngrok_Auth_Token"
      ],
      "metadata": {
        "id": "JMSIn-F9_2gc"
      },
      "execution_count": null,
      "outputs": []
    },
    {
      "cell_type": "code",
      "source": [
        "!git clone https://github.com/ccwu0918/Blockchain-Implementation-in-Python-from-Scratch"
      ],
      "metadata": {
        "id": "Tb4OyrwWJK39"
      },
      "execution_count": null,
      "outputs": []
    },
    {
      "cell_type": "code",
      "source": [
        "!mv ./Blockchain-Implementation-in-Python-from-Scratch/* ."
      ],
      "metadata": {
        "id": "TG0RiHLXIxOw"
      },
      "execution_count": 6,
      "outputs": []
    },
    {
      "cell_type": "code",
      "source": [
        "!rm ./Blockchain-Implementation-in-Python-from-Scratch -Rf"
      ],
      "metadata": {
        "id": "4CZwaz_uJBHX"
      },
      "execution_count": 7,
      "outputs": []
    },
    {
      "cell_type": "code",
      "source": [
        "# !pip install -r requirements.txt"
      ],
      "metadata": {
        "id": "Uuo1526OJTg6"
      },
      "execution_count": 8,
      "outputs": []
    },
    {
      "cell_type": "code",
      "source": [
        "!pip install pycryptodome==3.11.0"
      ],
      "metadata": {
        "id": "shsnl73ASIgi"
      },
      "execution_count": null,
      "outputs": []
    },
    {
      "cell_type": "code",
      "source": [
        "!python /content/Blockchain/Frontend/run.py"
      ],
      "metadata": {
        "id": "jbP7F6FtJxUw"
      },
      "execution_count": 10,
      "outputs": []
    },
    {
      "cell_type": "code",
      "source": [
        "!python /content/Blockchain/Backend/core/blockchain.py"
      ],
      "metadata": {
        "id": "xxuLKRS1Spcv"
      },
      "execution_count": null,
      "outputs": []
    },
    {
      "cell_type": "markdown",
      "source": [
        "\n",
        "\n",
        "---\n",
        "\n"
      ],
      "metadata": {
        "id": "uZENHgnHYEzC"
      }
    },
    {
      "cell_type": "code",
      "source": [
        "from pyngrok import ngrok\n",
        "from flask import Flask\n",
        "public_url = \"\"\n",
        "# ngrok_token = 'Your_Ngrok_Auth_Token'\n",
        "# port = 5000\n",
        "# ngrok.set_auth_token(ngrok_token)\n",
        "\n",
        "app = Flask(__name__)\n",
        "\n",
        "@app.route(\"/\")\n",
        "def root():\n",
        "  return \"Hello world!\"\n",
        "\n",
        "if __name__ == \"__main__\":\n",
        "  try:\n",
        "    public_url = ngrok.connect(port).public_url\n",
        "    print(public_url)\n",
        "    app.run(port=port)\n",
        "  finally:\n",
        "    ngrok.disconnect(public_url=public_url)"
      ],
      "metadata": {
        "id": "LEi0XF5GFvIx"
      },
      "execution_count": null,
      "outputs": []
    }
  ]
}